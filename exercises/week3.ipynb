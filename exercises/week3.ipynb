{
  "cells": [
    {
      "cell_type": "markdown",
      "metadata": {
        "id": "BKnDxa_Q3nTg"
      },
      "source": [
        "## Exercise: String formatting"
      ]
    },
    {
      "cell_type": "code",
      "execution_count": null,
      "metadata": {
        "colab": {
          "base_uri": "https://localhost:8080/"
        },
        "id": "8kr9kpTF3gat",
        "outputId": "1a912fd6-6155-4bac-d631-c4b557bc257d"
      },
      "outputs": [],
      "source": [
        "def solar_system(num_planets):\n",
        "  \"\"\"Returns a string like\n",
        "   \"There are NUM planets in the solar system\"\n",
        "   where NUM is provided as an argument.\n",
        "\n",
        "  >>> solar_system(8)\n",
        "  'There are 8 planets in the solar system'\n",
        "  >>> solar_system(9)\n",
        "  'There are 9 planets in the solar system'\n",
        "  \"\"\"\n",
        "  return \"\" # REPLACE THIS LINE\n",
        "\n",
        "import doctest\n",
        "doctest.run_docstring_examples(solar_system, globals(),\n",
        "  name=\"solar_system\", verbose=True)"
      ]
    },
    {
      "cell_type": "code",
      "execution_count": null,
      "metadata": {
        "colab": {
          "base_uri": "https://localhost:8080/"
        },
        "id": "R4aYU71_38Im",
        "outputId": "491d8305-4e7b-4154-c6aa-3acf57024fd3"
      },
      "outputs": [],
      "source": [
        "def location(place, lat, lng):\n",
        "  \"\"\"Returns a string which starts with the provided PLACE,\n",
        "  then has an @ sign, then the comma-separated LAT and LNG\n",
        "\n",
        "  >>> location(\"Tilden Farm\", 37.91, -122.29)\n",
        "  'Tilden Farm @ 37.91, -122.29'\n",
        "  >>> location(\"Salton Sea\", 33.309,-115.979)\n",
        "  'Salton Sea @ 33.309, -115.979'\n",
        "  \"\"\"\n",
        "  return \"\" # REPLACE THIS LINE\n",
        "\n",
        "import doctest\n",
        "doctest.run_docstring_examples(location, globals(),\n",
        "  name=\"location\", verbose=True)"
      ]
    },
    {
      "cell_type": "code",
      "execution_count": null,
      "metadata": {
        "colab": {
          "base_uri": "https://localhost:8080/"
        },
        "id": "SYoIXpeW3-7M",
        "outputId": "74a3d8af-816d-4f88-96ab-93397257bb5a"
      },
      "outputs": [],
      "source": [
        "def fancy_date(month, day, year):\n",
        "  \"\"\"Returns a string of the format\n",
        "   \"On the DAYth day of MONTH in the year YEAR\"\n",
        "   where DAY, MONTH, and YEAR are provided.\n",
        "   For simplicity, \"th\" is always the suffix, not \"rd\" or \"nd\".\n",
        "\n",
        "  >>> fancy_date(\"July\", 8, 2019)\n",
        "  'On the 8th day of July in the year 2019'\n",
        "  >>> fancy_date(\"June\", 24, 1984)\n",
        "  'On the 24th day of June in the year 1984'\n",
        "  \"\"\"\n",
        "  return \"\" # REPLACE THIS LINE\n",
        "\n",
        "import doctest\n",
        "doctest.run_docstring_examples(fancy_date, globals(),\n",
        "  name=\"fancy_date\", verbose=True)"
      ]
    },
    {
      "cell_type": "code",
      "execution_count": null,
      "metadata": {
        "colab": {
          "base_uri": "https://localhost:8080/"
        },
        "id": "Gr_aBnV84ElO",
        "outputId": "4da74ce6-3792-43a6-ac41-e65d122e96ae"
      },
      "outputs": [],
      "source": [
        "def dr_evil(amount):\n",
        "  \"\"\"Returns '<amount> dollars', adding '(pinky)' at the end\n",
        "  if the amount is 1 million or more.\n",
        "\n",
        "  >>> dr_evil(10)\n",
        "  '10 dollars'\n",
        "  >>> dr_evil(1000000)\n",
        "  '1000000 dollars (pinky)'\n",
        "  >>> dr_evil(2000000)\n",
        "  '2000000 dollars (pinky)'\n",
        "  \"\"\"\n",
        "  # YOUR CODE HERE\n",
        "\n",
        "import doctest\n",
        "doctest.run_docstring_examples(dr_evil, globals(),\n",
        "  name=\"dr_evil\", verbose=True)"
      ]
    },
    {
      "cell_type": "markdown",
      "metadata": {
        "id": "POwdwMrR4cy8"
      },
      "source": [
        "## Exercise: String operations"
      ]
    },
    {
      "cell_type": "code",
      "execution_count": null,
      "metadata": {
        "colab": {
          "base_uri": "https://localhost:8080/"
        },
        "id": "xWiVXmUP4eRb",
        "outputId": "2319590e-c8d1-484d-e4ad-fcb4d07efb2d"
      },
      "outputs": [],
      "source": [
        "def bleep_out(string1, string2):\n",
        "  \"\"\"Returns a version of string1 where all instances of string2\n",
        "  have been replaced by \"***\".\n",
        "\n",
        "  >>> bleep_out('i freaking love carrots', 'freaking')\n",
        "  'i *** love carrots'\n",
        "  >>> bleep_out('oh dang oh dang oh dang', 'dang')\n",
        "  'oh *** oh *** oh ***'\n",
        "  \"\"\"\n",
        "  return \"\" # REPLACE THIS LINE\n",
        "\n",
        "import doctest\n",
        "doctest.run_docstring_examples(bleep_out, globals(), verbose=True, name=\"bleep_out\")"
      ]
    },
    {
      "cell_type": "code",
      "execution_count": null,
      "metadata": {
        "id": "Y5RKIwncahJb"
      },
      "outputs": [],
      "source": [
        "def phone_number_versions(phone_number):\n",
        "    \"\"\"\n",
        "    Accepts a hyphen-separated phone number and returns\n",
        "    a list containing the original version, a space-separated version,\n",
        "    and a period-separated version.\n",
        "\n",
        "    >>> phone_number_versions('1-800-867-5309')\n",
        "    ['1-800-867-5309', '1 800 867 5309', '1.800.867.5309']\n",
        "    \"\"\"\n",
        "    return \"\" # REPLACE THIS LINE\n",
        "\n",
        "import doctest\n",
        "doctest.run_docstring_examples(phone_number_versions, globals(), verbose=True, name=\"phone_number_versions\")"
      ]
    },
    {
      "cell_type": "markdown",
      "metadata": {
        "id": "YTH2lPlhapph"
      },
      "source": [
        "## Optional exercises"
      ]
    },
    {
      "cell_type": "code",
      "execution_count": null,
      "metadata": {
        "colab": {
          "base_uri": "https://localhost:8080/"
        },
        "id": "78TNUxg84q-B",
        "outputId": "b7597bbf-546c-4365-9088-637c37f07362"
      },
      "outputs": [],
      "source": [
        "def mix_up(word1, word2):\n",
        "  \"\"\"Returns the concatenation of word1 and word2 separated by a space,\n",
        "  with the first 2 characters of each word swapped.\n",
        "  Assumes the two words are at least 2 characters long.\n",
        "\n",
        "  >>> mix_up('mix', 'pod')\n",
        "  'pox mid'\n",
        "  >>> mix_up('dog', 'dinner')\n",
        "  'dig donner'\n",
        "  \"\"\"\n",
        "  return \"\" # REPLACE THIS LINE\n",
        "\n",
        "import doctest\n",
        "doctest.run_docstring_examples(mix_up, globals(), verbose=True, name=\"mix_up\")"
      ]
    },
    {
      "cell_type": "code",
      "execution_count": null,
      "metadata": {
        "colab": {
          "base_uri": "https://localhost:8080/"
        },
        "id": "D-kN7UCX4uRk",
        "outputId": "1bd0bbe7-d27f-44ff-fac8-c691c0c52586"
      },
      "outputs": [],
      "source": [
        "def gerundio(verb):\n",
        "  \"\"\"Turns Spanish infinitive verbs (which end in \"ar\", \"er\", \"ir\")\n",
        "  into the gerund forms (which end in \"ando\" or \"iendo).\n",
        "  When a verb ends in \"ar\", the \"ar\" is replaced with \"ando\".\n",
        "  When a verb ends in \"er\" or \"ir\", the end is replaced with \"iendo\".\n",
        "\n",
        "  >>> gerundio('cantar')\n",
        "  'cantando'\n",
        "  >>> gerundio('volver')\n",
        "  'volviendo'\n",
        "  >>> gerundio('abrir')\n",
        "  'abriendo'\n",
        "  >>> gerundio('armar')\n",
        "  'armando'\n",
        "  \"\"\"\n",
        "  # YOUR CODE HERE\n",
        "\n",
        "import doctest\n",
        "doctest.run_docstring_examples(gerundio, globals(), verbose=True, name=\"gerundio\")"
      ]
    },
    {
      "cell_type": "code",
      "execution_count": null,
      "metadata": {
        "colab": {
          "base_uri": "https://localhost:8080/"
        },
        "id": "r9A6ZVcD4yTL",
        "outputId": "239a0d9f-0d6d-4ae8-e55c-a272ed3cdb0f"
      },
      "outputs": [],
      "source": [
        "def not_bad(sentence):\n",
        "  \"\"\"Returns a new string where the first substring in a sentence\n",
        "  that starts with \"not\" and ends with \"bad\" is replaced by the word \"good\".\n",
        "  Returns the original string if no matching substring is found.\n",
        "\n",
        "  >>> not_bad('This dinner is not that bad!')\n",
        "  'This dinner is good!'\n",
        "  >>> not_bad('This movie is not so bad!')\n",
        "  'This movie is good!'\n",
        "  >>> not_bad('This dinner is bad!')\n",
        "  'This dinner is bad!'\n",
        "  >>> not_bad('This movie is not so bad, dont you think?') # Bonus doctest! TODO: Add to corise.\n",
        "  'This movie is good, dont you think?'\n",
        "  \"\"\"\n",
        "  # YOUR CODE HERE\n",
        "\n",
        "\n",
        "import doctest\n",
        "doctest.run_docstring_examples(not_bad, globals(), verbose=True, name=\"not_bad\")"
      ]
    },
    {
      "cell_type": "markdown",
      "metadata": {
        "id": "HLk7cGKB6H82"
      },
      "source": [
        "## Exercise: Dictionaries"
      ]
    },
    {
      "cell_type": "code",
      "execution_count": null,
      "metadata": {
        "colab": {
          "base_uri": "https://localhost:8080/"
        },
        "id": "vvdi1Tf96xBH",
        "outputId": "2d6dc5d1-8d03-41a0-b43b-4e6073a4e4a9"
      },
      "outputs": [],
      "source": [
        "def movie_summary(movie):\n",
        "    \"\"\"\n",
        "    Accepts movie, a dictionary with three keys-\n",
        "    title (string), duration (number), actors (list of strings),\n",
        "    and returns a string of the form\n",
        "    \"<title> lasts for <duration> minutes. Stars: <actor, ...>\"\n",
        "\n",
        "    >>> puff = {\n",
        "    ...     \"title\": \"Puff the Magic Dragon\",\n",
        "    ...     \"duration\": 30,\n",
        "    ...     \"actors\": [\"Puff\", \"Jackie\", \"Living Sneezes\"]\n",
        "    ... }\n",
        "    >>> movie_summary(puff)\n",
        "    'Puff the Magic Dragon lasts for 30 minutes. Stars: Puff, Jackie, Living Sneezes.'\n",
        "    >>> arrival = {\n",
        "    ...     \"title\": \"Arrival\",\n",
        "    ...     \"duration\": \"118\",\n",
        "    ...     \"actors\": [\"Amy Adams\", \"Jeremy Renner\"]\n",
        "    ... }\n",
        "    >>> movie_summary(arrival)\n",
        "    'Arrival lasts for 118 minutes. Stars: Amy Adams, Jeremy Renner.'\n",
        "    \"\"\"\n",
        "    return f\"{movie['title']} lasts for {movie['duration']} minutes. Stars: {', '.join(movie['actors'])}.\"\n",
        "\n",
        "import doctest\n",
        "doctest.run_docstring_examples(movie_summary, globals(), verbose=True, name=\"movie_summary\")"
      ]
    },
    {
      "cell_type": "code",
      "execution_count": null,
      "metadata": {
        "colab": {
          "base_uri": "https://localhost:8080/"
        },
        "id": "eZg7mgXP6qcP",
        "outputId": "ea9b4804-1140-488b-8108-5827e5ebdd48"
      },
      "outputs": [],
      "source": [
        "def movie_rater(movie, user_rating):\n",
        "    \"\"\"\n",
        "    Accepts movie, a dict with three keys\n",
        "    (title (string), avg_rating (number), num_ratings (number)),\n",
        "    and user_rating, a number.\n",
        "    Updates movie's avg_rating and num_ratings\n",
        "    based on the provided user_rating.\n",
        "\n",
        "    >>> puff = {\n",
        "    ...     \"title\": \"Puff the Magic Dragon\",\n",
        "    ...     \"duration\": 30,\n",
        "    ...     \"avg_rating\": 4.5,\n",
        "    ...     \"num_ratings\": 9\n",
        "    ... }\n",
        "    >>> movie_rater(puff, 4.1)\n",
        "    >>> puff[\"avg_rating\"]\n",
        "    4.46\n",
        "    >>> puff[\"num_ratings\"]\n",
        "    10\n",
        "    \"\"\"\n",
        "    # YOUR CODE HERE\n",
        "\n",
        "import doctest\n",
        "doctest.run_docstring_examples(movie_rater, globals(), verbose=True, name=\"movie_rater\")"
      ]
    },
    {
      "cell_type": "code",
      "execution_count": null,
      "metadata": {
        "colab": {
          "base_uri": "https://localhost:8080/"
        },
        "id": "Y12UioRH6zNS",
        "outputId": "fc6b89ad-883e-4b02-d686-f3604c26f2b2"
      },
      "outputs": [],
      "source": [
        "def count_unread_books(books):\n",
        "    \"\"\" Accepts a list of dicts describing books\n",
        "    and returns the number of unread books in the list.\n",
        "\n",
        "    >>> books = [{\n",
        "    ...     \"title\": \"Uncanny Valley\",\n",
        "    ...     \"author\": \"Anna Wiener\",\n",
        "    ...     \"read\": False\n",
        "    ...   }, {\n",
        "    ...     \"title\": \"Parable of the Sower\",\n",
        "    ...     \"author\": \"Octavia E. Butler\",\n",
        "    ...     \"read\": True\n",
        "    ...   }]\n",
        "    >>> count_unread_books(books)\n",
        "    1\n",
        "    \"\"\"\n",
        "    # YOUR CODE HERE\n",
        "\n",
        "import doctest\n",
        "doctest.run_docstring_examples(count_unread_books, globals(), verbose=True, name=\"count_unread_books\")"
      ]
    }
  ],
  "metadata": {
    "colab": {
      "provenance": []
    },
    "kernelspec": {
      "display_name": "Python 3",
      "name": "python3"
    },
    "language_info": {
      "name": "python"
    }
  },
  "nbformat": 4,
  "nbformat_minor": 0
}
