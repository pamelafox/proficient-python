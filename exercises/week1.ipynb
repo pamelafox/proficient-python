{
  "cells": [
    {
      "cell_type": "markdown",
      "metadata": {
        "id": "-O3FoA4bBWUd"
      },
      "source": [
        "## Exercise: Functions"
      ]
    },
    {
      "cell_type": "code",
      "execution_count": null,
      "metadata": {
        "id": "FJvBN2OGAXlC"
      },
      "outputs": [],
      "source": [
        "def calculate_lifetime_supply(current_age, amount_per_day):\n",
        "    \"\"\" Returns the amount of items consumed over a lifetime\n",
        "    (with a max age of 100 assumed) based on the current age\n",
        "    and the amount consumed per day.\n",
        "\n",
        "    >>> calculate_lifetime_supply(99, 1)\n",
        "    365\n",
        "    >>> calculate_lifetime_supply(99, 2)\n",
        "    730\n",
        "    >>> calculate_lifetime_supply(36, 3)\n",
        "    70080\n",
        "    \"\"\"\n",
        "    # YOUR CODE HERE\n",
        "\n",
        "import doctest\n",
        "doctest.run_docstring_examples(calculate_lifetime_supply, globals(),\n",
        "    verbose=True, name=\"calculate_lifetime_supply\")"
      ]
    },
    {
      "cell_type": "code",
      "execution_count": null,
      "metadata": {
        "id": "QenZ4TbrAj2j"
      },
      "outputs": [],
      "source": [
        "def calculate_dog_age(human_age):\n",
        "    \"\"\" Returns a dog's age based on a conversion rate of\n",
        "    1 human year to 7 dog years.\n",
        "    >>> calculate_dog_age(1)\n",
        "    7\n",
        "    >>> calculate_dog_age(0.5)\n",
        "    3.5\n",
        "    >>> calculate_dog_age(12)\n",
        "    84\n",
        "    \"\"\"\n",
        "    # YOUR CODE HERE\n",
        "\n",
        "import doctest\n",
        "doctest.run_docstring_examples(calculate_dog_age, globals(),\n",
        "    verbose=True, name=\"calculate_dog_age\")"
      ]
    },
    {
      "cell_type": "code",
      "execution_count": null,
      "metadata": {
        "id": "n04eTxZlyh6l"
      },
      "outputs": [],
      "source": [
        "def seconds_between(year1, year2):\n",
        "    \"\"\" Returns the number of seconds between two years.\n",
        "\n",
        "    >>> seconds_between(1984, 1985)\n",
        "    31536000\n",
        "    >>> seconds_between(1984, 2000)\n",
        "    504576000\n",
        "    \"\"\"\n",
        "    # YOUR CODE HERE\n",
        "\n",
        "import doctest\n",
        "doctest.run_docstring_examples(seconds_between, globals(),\n",
        "    verbose=True, name=\"seconds_between\")"
      ]
    },
    {
      "cell_type": "code",
      "execution_count": null,
      "metadata": {
        "id": "Btz857cpAmvM"
      },
      "outputs": [],
      "source": [
        "def tell_fortune(job_title, location, partner):\n",
        "    \"\"\" Returns a fortune of the form:\n",
        "     'You will be a  in  living with .'\n",
        "\n",
        "    >>> tell_fortune('bball player', 'Spain', 'Sonic the Hedgehog')\n",
        "    'You will be a bball player in Spain living with Sonic the Hedgehog.'\n",
        "    >>> tell_fortune('farmer', 'Kansas', 'C3PO')\n",
        "    'You will be a farmer in Kansas living with C3PO.'\n",
        "    >>> tell_fortune('Elvis Impersonator', 'Russia', 'Karl the Fog')\n",
        "    'You will be a Elvis Impersonator in Russia living with Karl the Fog.'\n",
        "    \"\"\"\n",
        "    return \"?\"  # YOUR CODE HERE\n",
        "\n",
        "import doctest\n",
        "doctest.run_docstring_examples(tell_fortune, globals(),\n",
        "    verbose=True, name=\"tell_fortune\")"
      ]
    },
    {
      "cell_type": "code",
      "execution_count": null,
      "metadata": {
        "id": "zRWiB_CUArpq"
      },
      "outputs": [],
      "source": [
        "# See https://www.mathsisfun.com/temperature-conversion.html for formulas.\n",
        "\n",
        "# See https://www.mathsisfun.com/temperature-conversion.html for formulas.\n",
        "\n",
        "def celsius_to_fahrenheit():  # <- COMPLETE THIS\n",
        "    \"\"\" Returns the Fahrenheit equivalent of the given Celsius temperature.\n",
        "\n",
        "    >>> celsius_to_fahrenheit(0)\n",
        "    32\n",
        "    >>> celsius_to_fahrenheit(100)\n",
        "    212\n",
        "    \"\"\"\n",
        "    # YOUR CODE HERE\n",
        "    \n",
        "def fahrenheit_to_celsius(): # <- COMPLETE THIS\n",
        "    \"\"\" Returns the Celsius equivalent of the given Fahrenheit temperature.\n",
        "\n",
        "    >>> fahrenheit_to_celsius(32)\n",
        "    0\n",
        "    >>> fahrenheit_to_celsius(212)\n",
        "    100\n",
        "    \"\"\"\n",
        "    # YOUR CODE HERE\n",
        "\n",
        "import doctest\n",
        "doctest.run_docstring_examples(celsius_to_fahrenheit, globals(),\n",
        "    verbose=True, name=\"celsius_to_fahrenheit\")\n",
        "doctest.run_docstring_examples(fahrenheit_to_celsius, globals(),\n",
        "    verbose=True, name=\"fahrenheit_to_celsius\")"
      ]
    },
    {
      "cell_type": "markdown",
      "metadata": {
        "id": "L4F6DWKEBddh"
      },
      "source": [
        "# Exercise: Logical expressions"
      ]
    },
    {
      "cell_type": "code",
      "execution_count": null,
      "metadata": {
        "id": "6JXKZXLIBhSd"
      },
      "outputs": [],
      "source": [
        "def has_curly_hair(father_allele, mother_allele):\n",
        "  \"\"\"Returns true only if both the father allele and mother allele are \"C\".\n",
        "\n",
        "  >>> has_curly_hair(\"C\", \"c\")\n",
        "  False\n",
        "  >>> has_curly_hair(\"c\", \"C\")\n",
        "  False\n",
        "  >>> has_curly_hair(\"s\", \"s\")\n",
        "  False\n",
        "  >>> has_curly_hair(\"C\", \"C\")\n",
        "  True\n",
        "  \"\"\"\n",
        "  return 0 # REPLACE THIS\n",
        "\n",
        "\n",
        "import doctest\n",
        "doctest.run_docstring_examples(has_curly_hair, globals(),\n",
        "   verbose=True, name=\"has_curly_hair\")"
      ]
    },
    {
      "cell_type": "code",
      "execution_count": null,
      "metadata": {
        "id": "aDOPcdrNBlBt"
      },
      "outputs": [],
      "source": [
        "def can_be_president(age, residency):\n",
        "    \"\"\"\n",
        "    Returns whether someone can be US president based on age and residency.\n",
        "    According to the US constitution, a presidential candidate must be at least \n",
        "    35 years old and have been a US resident for at least 14 years. \n",
        "\n",
        "    >>> can_be_president(30, 10)\n",
        "    False\n",
        "    >>> can_be_president(36, 10)\n",
        "    False\n",
        "    >>> can_be_president(30, 16)\n",
        "    False\n",
        "    >>> can_be_president(36, 15)\n",
        "    True\n",
        "    >>> can_be_president(36, 14)\n",
        "    True\n",
        "    >>> can_be_president(35, 14)\n",
        "    True\n",
        "    >>> can_be_president(35, 30)\n",
        "    True\n",
        "    \"\"\"\n",
        "    return 0 # REPLACE THIS\n",
        "\n",
        "\n",
        "import doctest\n",
        "doctest.run_docstring_examples(can_be_president, globals(),\n",
        "    verbose=True, name=\"can_be_president\")"
      ]
    },
    {
      "cell_type": "code",
      "execution_count": null,
      "metadata": {
        "id": "0_Pq9y_pBo1R"
      },
      "outputs": [],
      "source": [
        "def is_safe_to_eat(seafood_type, days_frozen):\n",
        "    \"\"\" Returns true if the seafood is safe to eat: \n",
        "    either the type is \"mollusk\" or it's been frozen for at least 7 days.\n",
        "\n",
        "    >>> is_safe_to_eat(\"tuna\", 3)\n",
        "    False\n",
        "    >>> is_safe_to_eat(\"salmon\", 6)\n",
        "    False\n",
        "    >>> is_safe_to_eat(\"salmon\", 7)\n",
        "    True\n",
        "    >>> is_safe_to_eat(\"mollusk\", 1)\n",
        "    True\n",
        "    >>> is_safe_to_eat(\"mollusk\", 9)\n",
        "    True\n",
        "    \"\"\"\n",
        "    return 0  # REPLACE THIS\n",
        "\n",
        "\n",
        "import doctest\n",
        "doctest.run_docstring_examples(is_safe_to_eat, globals(),\n",
        "    verbose=True, name=\"is_safe_to_eat\")"
      ]
    },
    {
      "cell_type": "code",
      "execution_count": null,
      "metadata": {
        "id": "nhKu2EozBswU"
      },
      "outputs": [],
      "source": [
        "def harvest_time(month, tuber_size):\n",
        "    \"\"\" Returns true if it's time to harvest root vegetables:\n",
        "    either the month is July or the size of the tuber is at least 2 feet.\n",
        "    >>> harvest_time(\"May\", 1)\n",
        "    False\n",
        "    >>> harvest_time(\"May\", 2)\n",
        "    True\n",
        "    >>> harvest_time(\"May\", 3)\n",
        "    True\n",
        "    >>> harvest_time(\"July\", 1)\n",
        "    True\n",
        "    >>> harvest_time(\"July\", 2)\n",
        "    True\n",
        "    >>> harvest_time(\"July\", 4)\n",
        "    True\n",
        "    \"\"\"\n",
        "    return 0 # REPLACE THIS\n",
        "\n",
        "import doctest\n",
        "doctest.run_docstring_examples(harvest_time, globals(),\n",
        "    verbose=True, name=\"harvest_time\")"
      ]
    },
    {
      "cell_type": "markdown",
      "metadata": {
        "id": "gxGJOnQzCBaV"
      },
      "source": [
        "## Exercise: Conditionals"
      ]
    },
    {
      "cell_type": "code",
      "execution_count": null,
      "metadata": {
        "id": "BBmDexGYCCpj"
      },
      "outputs": [],
      "source": [
        "def lesser_num(num1, num2):\n",
        "    \"\"\" Returns whichever number is lowest of the two supplied numbers.\n",
        "\n",
        "    >>> lesser_num(45, 10)\n",
        "    10\n",
        "    >>> lesser_num(-1, 30)\n",
        "    -1\n",
        "    >>> lesser_num(20, 20)\n",
        "    20\n",
        "    \"\"\"\n",
        "    # YOUR CODE HERE\n",
        "\n",
        "import doctest\n",
        "doctest.run_docstring_examples(lesser_num, globals(),\n",
        "    verbose=True, name=\"lesser_num\")"
      ]
    },
    {
      "cell_type": "code",
      "execution_count": null,
      "metadata": {
        "colab": {
          "base_uri": "https://localhost:8080/"
        },
        "id": "pRKfbdgo-Ecv",
        "outputId": "658db2ee-c98f-489e-b6e6-2bd7346436c0"
      },
      "outputs": [],
      "source": [
        "def greater_num(num1, num2):\n",
        "    \"\"\" Returns whichever number is highest of the two supplied numbers.\n",
        "\n",
        "    >>> greater_num(45, 10)\n",
        "    45\n",
        "    >>> greater_num(-1, 30)\n",
        "    30\n",
        "    >>> greater_num(20, 20)\n",
        "    20\n",
        "    \"\"\"\n",
        "    # YOUR CODE HERE\n",
        "\n",
        "import doctest\n",
        "doctest.run_docstring_examples(greater_num, globals(),\n",
        "    verbose=True, name=\"greater_num\")"
      ]
    },
    {
      "cell_type": "code",
      "execution_count": null,
      "metadata": {
        "id": "Pox0zxP7CI9m"
      },
      "outputs": [],
      "source": [
        "def hello_world(language_code):\n",
        "    \"\"\" Returns the translation of \"Hello, World\" into the language\n",
        "    specified by the language code (e.g. \"es\", \"pt\", \"en\"),\n",
        "    defaulting to English if an unknown language code is specified.\n",
        "    >>> hello_world(\"en\")\n",
        "    'Hello, World'\n",
        "    >>> hello_world(\"es\")\n",
        "    'Hola, Mundo'\n",
        "    >>> hello_world(\"pt\")\n",
        "    'Olá, Mundo'\n",
        "    \"\"\"\n",
        "    # YOUR CODE HERE\n",
        "\n",
        "import doctest\n",
        "doctest.run_docstring_examples(hello_world, globals(),\n",
        "    verbose=True, name=\"hello_world\")"
      ]
    },
    {
      "cell_type": "code",
      "execution_count": null,
      "metadata": {
        "id": "UtLZI4ARCMIk"
      },
      "outputs": [],
      "source": [
        "def assign_grade(score):\n",
        "    \"\"\" Returns a letter grade for the numeric score based on the grade bins of:\n",
        "     \"A\" (90-100), \"B\" (80-89), \"C\" (70-79), \"D\" (65-69), or \"F\" (0-64)\n",
        "\n",
        "    >>> assign_grade(95)\n",
        "    'A'\n",
        "    >>> assign_grade(90)\n",
        "    'A'\n",
        "    >>> assign_grade(85)\n",
        "    'B'\n",
        "    >>> assign_grade(80)\n",
        "    'B'\n",
        "    >>> assign_grade(77)\n",
        "    'C'\n",
        "    >>> assign_grade(70)\n",
        "    'C'\n",
        "    >>> assign_grade(68)\n",
        "    'D'\n",
        "    >>> assign_grade(65)\n",
        "    'D'\n",
        "    >>> assign_grade(64)\n",
        "    'F'\n",
        "    >>> assign_grade(0)\n",
        "    'F'\n",
        "    \"\"\"\n",
        "    return ''\n",
        "\n",
        "import doctest\n",
        "doctest.run_docstring_examples(assign_grade, globals(),\n",
        "    verbose=True, name=\"assign_grade\")"
      ]
    }
  ],
  "metadata": {
    "colab": {
      "provenance": []
    },
    "kernelspec": {
      "display_name": "Python 3",
      "name": "python3"
    },
    "language_info": {
      "name": "python"
    }
  },
  "nbformat": 4,
  "nbformat_minor": 0
}
