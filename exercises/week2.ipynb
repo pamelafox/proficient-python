{
  "cells": [
    {
      "cell_type": "markdown",
      "metadata": {
        "id": "s6Khjc6vljqv"
      },
      "source": [
        "## Exercise: While loops\n",
        "\n"
      ]
    },
    {
      "cell_type": "code",
      "execution_count": null,
      "metadata": {
        "colab": {
          "base_uri": "https://localhost:8080/"
        },
        "id": "1k_5LQtnlgra",
        "outputId": "c86e2e84-bc02-41d2-bdf8-4f8de1bb2701"
      },
      "outputs": [],
      "source": [
        "def count_evens(start, end):\n",
        "    \"\"\"\n",
        "    Counts the number of even numbers between a given start number and given end number.\n",
        "    Count should include the start or end if they are even.\n",
        "\n",
        "    >>> count_evens(2, 2)\n",
        "    1\n",
        "    >>> count_evens(-2, 52)\n",
        "    28\n",
        "    >>> count_evens(237, 500)\n",
        "    132\n",
        "    \"\"\"\n",
        "    # YOUR CODE HERE\n",
        "\n",
        "import doctest\n",
        "doctest.run_docstring_examples(count_evens, globals(), verbose=True, name=\"count_evens\")"
      ]
    },
    {
      "cell_type": "code",
      "execution_count": null,
      "metadata": {
        "colab": {
          "base_uri": "https://localhost:8080/"
        },
        "id": "bpjaFJ1QmJGl",
        "outputId": "86fefbb8-da49-465f-cf2d-442d466555ab"
      },
      "outputs": [],
      "source": [
        "def count_multiples(start, end, divisor):\n",
        "    \"\"\"\n",
        "    Counts the number of multiples of divisor between the start and end numbers.\n",
        "    It should include the start or end if they are a multiple.\n",
        "\n",
        "    >>> count_multiples(2, 2, 1)       # 2 is a multiple of 1\n",
        "    1\n",
        "    >>> count_multiples(2, 2, 2)       # 2 is a multiple of 2\n",
        "    1\n",
        "    >>> count_multiples(2, 2, 3)       # 2 is not a multiple of 3\n",
        "    0\n",
        "    >>> count_multiples(1, 12, 3)      # 3, 6, 9, 12\n",
        "    4\n",
        "    >>> count_multiples(237, 500, 10)\n",
        "    27\n",
        "    \"\"\"\n",
        "    # YOUR CODE HERE\n",
        "\n",
        "import doctest\n",
        "doctest.run_docstring_examples(count_multiples, globals(), verbose=True, name=\"count_multiples\")"
      ]
    },
    {
      "cell_type": "code",
      "execution_count": null,
      "metadata": {
        "colab": {
          "base_uri": "https://localhost:8080/"
        },
        "id": "K_zREZnTmLEw",
        "outputId": "0678befc-9944-4023-8278-1603a045431c"
      },
      "outputs": [],
      "source": [
        "def sum_multiples(start, end, divisor):\n",
        "    \"\"\"Returns the sum of the multiples of a given divisor between start and end.\n",
        "    If the start or end numbers are multiples, they should be included in the sum.\n",
        "\n",
        "    >>> sum_multiples(1, 12, 4)\n",
        "    24\n",
        "    >>> sum_multiples(1, 12, 13)\n",
        "    0\n",
        "    >>> sum_multiples(2, 2, 2)\n",
        "    2\n",
        "    >>> sum_multiples(2, 2, 3)\n",
        "    0\n",
        "    >>> sum_multiples(23, 81, 13)\n",
        "    260\n",
        "    \"\"\"\n",
        "    # YOUR CODE HERE\n",
        "\n",
        "import doctest\n",
        "doctest.run_docstring_examples(sum_multiples, globals(), verbose=True, name=\"sum_multiples\")"
      ]
    },
    {
      "cell_type": "code",
      "execution_count": null,
      "metadata": {
        "colab": {
          "base_uri": "https://localhost:8080/"
        },
        "id": "u1XxKre6mODa",
        "outputId": "bf3833be-fb8c-46eb-ff29-2df9ee796169"
      },
      "outputs": [],
      "source": [
        "def product_of_numbers(end):\n",
        "    \"\"\"Returns the product of all the numbers from 1 to the end number,\n",
        "    including the end number.\n",
        "\n",
        "    >>> product_of_numbers(1)\n",
        "    1\n",
        "    >>> product_of_numbers(2)\n",
        "    2\n",
        "    >>> product_of_numbers(3)\n",
        "    6\n",
        "    >>> product_of_numbers(10)\n",
        "    3628800\n",
        "    \"\"\"\n",
        "    result = 1\n",
        "    counter = 0\n",
        "    while counter < end:\n",
        "        result *= counter\n",
        "        counter += 2\n",
        "    return result\n",
        "\n",
        "import doctest\n",
        "doctest.run_docstring_examples(product_of_numbers, globals(), verbose=True, name=\"product_of_numbers\")"
      ]
    },
    {
      "cell_type": "markdown",
      "metadata": {
        "id": "Q86gbjZ9m1kG"
      },
      "source": [
        "## Exercise: Loops and lists"
      ]
    },
    {
      "cell_type": "code",
      "execution_count": null,
      "metadata": {
        "colab": {
          "base_uri": "https://localhost:8080/"
        },
        "id": "IJo7JavlnBEr",
        "outputId": "fed9cbe8-17f1-4b19-bd07-66be21c89176"
      },
      "outputs": [],
      "source": [
        "def make_point(x, y):\n",
        "  \"\"\"Returns a list with the two arguments, rounded to their integer values.\n",
        "  \n",
        "  >>> make_point(30, 75)\n",
        "  [30, 75]\n",
        "  >>> make_point(-1, -2)\n",
        "  [-1, -2]\n",
        "  >>> make_point(12.32, 74.11)\n",
        "  [12, 74]\n",
        "  \"\"\"\n",
        "  return []\n",
        "\n",
        "import doctest\n",
        "doctest.run_docstring_examples(make_point, globals(), verbose=True, name=\"make_point\")"
      ]
    },
    {
      "cell_type": "code",
      "execution_count": null,
      "metadata": {
        "colab": {
          "base_uri": "https://localhost:8080/"
        },
        "id": "_iwRCRu3nCy7",
        "outputId": "08dbcaf6-8169-4344-ec81-8582d950cc8f"
      },
      "outputs": [],
      "source": [
        "def average_scores(scores):\n",
        "  \"\"\"Returns the average of the provided scores.\n",
        "  \n",
        "  >>> average_scores([10, 20])\n",
        "  15.0\n",
        "  >>> average_scores([90, 80, 70])\n",
        "  80.0\n",
        "  >>> average_scores([8.9, 7.2])\n",
        "  8.05\n",
        "  \"\"\"\n",
        "  # Initialize a variable to 0\n",
        "  # Iterate through the scores\n",
        "      # Add each score to the variable\n",
        "  # Divide the variable by the number of scores\n",
        "  # Return the result\n",
        "\n",
        "import doctest\n",
        "doctest.run_docstring_examples(average_scores, globals(), verbose=True, name=\"average_scores\")"
      ]
    },
    {
      "cell_type": "code",
      "execution_count": null,
      "metadata": {
        "colab": {
          "base_uri": "https://localhost:8080/"
        },
        "id": "qWzGqNk-nF1g",
        "outputId": "4ffac830-1316-4d00-c4ed-3a46b3e0b9ca"
      },
      "outputs": [],
      "source": [
        "def concatenator(items):\n",
        "  \"\"\"Returns a string with all the contents of the list concatenated together.\n",
        "\n",
        "  >>> concatenator([\"Super\", \"cali\", \"fragilistic\", \"expialidocious\"])\n",
        "  'Supercalifragilisticexpialidocious'\n",
        "  >>> concatenator([\"finger\", \"spitzen\", \"gefühl\"])\n",
        "  'fingerspitzengefühl'\n",
        "  >>> concatenator([\"none\", \"the\", \"less\"])\n",
        "  'nonetheless'\n",
        "  \"\"\"\n",
        "  # Initialize a variable to empty string\n",
        "  # Iterate through the list\n",
        "    # Concatenate each item to the variable\n",
        "  # Return the variable\n",
        "\n",
        "import doctest\n",
        "doctest.run_docstring_examples(concatenator, globals(), verbose=True, name=\"concatenator\")"
      ]
    },
    {
      "cell_type": "markdown",
      "metadata": {
        "id": "Kc76p4jbnicx"
      },
      "source": [
        "## Exercise: Nested Lists"
      ]
    },
    {
      "cell_type": "code",
      "execution_count": null,
      "metadata": {
        "colab": {
          "base_uri": "https://localhost:8080/"
        },
        "id": "DsgF3z7knoxe",
        "outputId": "4b815a16-d7b0-4d86-82b4-26aacb812a4b"
      },
      "outputs": [],
      "source": [
        "def sum_grid(grid):\n",
        "    \"\"\"Returns the sum of all the numbers in the given grid, a 2-D list of numbers.\n",
        "\n",
        "    >>> grid1 = [\n",
        "    ...     [5, 1, 6],   # 12\n",
        "    ...     [10, 4, 1],  # 15\n",
        "    ...     [8, 3, 2]    # 13\n",
        "    ... ]\n",
        "    >>> sum_grid(grid1)\n",
        "    40\n",
        "    >>> grid2 = [\n",
        "    ...     [15, 1, 6], # 22\n",
        "    ...     [10, 4, 0], # 14\n",
        "    ...     [8, 3, 2]   # 13\n",
        "    ... ]\n",
        "    >>> sum_grid(grid2)\n",
        "    49\n",
        "    \"\"\"\n",
        "    # Initialize a sum to 0\n",
        "    # Iterate through the grid\n",
        "    # Iterate through current row\n",
        "    # Add current value to sum\n",
        "    # Return sum\n",
        "\n",
        "import doctest\n",
        "doctest.run_docstring_examples(sum_grid, globals(), verbose=True, name=\"sum_grid\")"
      ]
    },
    {
      "cell_type": "code",
      "execution_count": null,
      "metadata": {
        "colab": {
          "base_uri": "https://localhost:8080/"
        },
        "id": "fFVManFzntZY",
        "outputId": "f4e15a4e-7634-4f7e-b306-63d89ddeacc8"
      },
      "outputs": [],
      "source": [
        "def contains_15row(grid):\n",
        "    \"\"\"Takes an input of a 2-dimensional list of numbers\n",
        "        and returns true if any of the rows add up to 15.\n",
        "    \n",
        "    >>> grid1 = [\n",
        "    ...     [5, 1, 6],   # 12\n",
        "    ...     [10, 4, 1],  # 15!!\n",
        "    ...     [8, 3, 2]    # 13\n",
        "    ... ]\n",
        "    >>> contains_15row(grid1)\n",
        "    True\n",
        "    >>> grid2 = [\n",
        "    ...     [15, 1, 6], # 22\n",
        "    ...     [10, 4, 0], # 14\n",
        "    ...     [8, 3, 2]   # 13\n",
        "    ... ]\n",
        "    >>> contains_15row(grid2)\n",
        "    False\n",
        "    \"\"\"\n",
        "    # Iterate through the grid\n",
        "    # Initialize a sum to 0\n",
        "    # Iterate through the row\n",
        "    # Add current value to sum\n",
        "    # If sum is 15, return true\n",
        "    # return false otherwise\n",
        "\n",
        "import doctest\n",
        "doctest.run_docstring_examples(contains_15row, globals(), verbose=True, name=\"contains_15row\")"
      ]
    }
  ],
  "metadata": {
    "colab": {
      "provenance": []
    },
    "kernelspec": {
      "display_name": "Python 3",
      "name": "python3"
    },
    "language_info": {
      "name": "python"
    }
  },
  "nbformat": 4,
  "nbformat_minor": 0
}
